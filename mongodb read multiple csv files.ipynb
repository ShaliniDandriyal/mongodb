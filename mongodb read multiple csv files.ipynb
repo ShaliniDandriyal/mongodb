{
 "cells": [
  {
   "cell_type": "code",
   "execution_count": 1,
   "id": "58599dd3",
   "metadata": {},
   "outputs": [],
   "source": [
    "import os\n",
    "import pandas as pd\n",
    "import glob"
   ]
  },
  {
   "cell_type": "code",
   "execution_count": 2,
   "id": "dca633d4",
   "metadata": {},
   "outputs": [
    {
     "name": "stdout",
     "output_type": "stream",
     "text": [
      "['AIR QUALITY INDEX (by cities) - IQAir.csv', 'googleplaystore.csv', 'monthly_csv.csv', 'SQL _Tests.csv']\n"
     ]
    }
   ],
   "source": [
    "my_files=glob.glob('*.csv')\n",
    "print(my_files)"
   ]
  },
  {
   "cell_type": "code",
   "execution_count": 3,
   "id": "cd8e09a9",
   "metadata": {},
   "outputs": [],
   "source": [
    "import pymongo\n",
    "import json"
   ]
  },
  {
   "cell_type": "code",
   "execution_count": 4,
   "id": "58129d9a",
   "metadata": {},
   "outputs": [],
   "source": [
    "client=pymongo.MongoClient(\"mongodb://localhost:27017\")"
   ]
  },
  {
   "cell_type": "code",
   "execution_count": 5,
   "id": "42695875",
   "metadata": {},
   "outputs": [],
   "source": [
    "dd=['AIR QUALITY INDEX (by cities) - IQAir.csv', 'googleplaystore.csv', 'monthly_csv.csv', 'SQL _Tests.csv']"
   ]
  },
  {
   "cell_type": "code",
   "execution_count": 6,
   "id": "e7d3acbe",
   "metadata": {},
   "outputs": [],
   "source": [
    "k=0\n",
    "for i in my_files:\n",
    "        df=pd.read_csv(i)\n",
    "        data=df.to_dict(orient=\"records\")\n",
    "        db=client[\"New\"]\n",
    "        db.dd[k].insert_many(data)\n",
    "        k=k+1\n",
    "        "
   ]
  },
  {
   "cell_type": "code",
   "execution_count": null,
   "id": "6bac477a",
   "metadata": {},
   "outputs": [],
   "source": []
  }
 ],
 "metadata": {
  "kernelspec": {
   "display_name": "Python 3 (ipykernel)",
   "language": "python",
   "name": "python3"
  },
  "language_info": {
   "codemirror_mode": {
    "name": "ipython",
    "version": 3
   },
   "file_extension": ".py",
   "mimetype": "text/x-python",
   "name": "python",
   "nbconvert_exporter": "python",
   "pygments_lexer": "ipython3",
   "version": "3.9.12"
  }
 },
 "nbformat": 4,
 "nbformat_minor": 5
}
