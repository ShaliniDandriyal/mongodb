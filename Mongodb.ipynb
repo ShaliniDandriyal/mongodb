{
 "cells": [
  {
   "cell_type": "code",
   "execution_count": 3,
   "id": "22ee1796",
   "metadata": {},
   "outputs": [],
   "source": [
    "import pymongo"
   ]
  },
  {
   "cell_type": "code",
   "execution_count": 5,
   "id": "f22dcdf0",
   "metadata": {},
   "outputs": [],
   "source": [
    "path=pymongo.MongoClient(\"mongodb://localhost:27017/\")"
   ]
  },
  {
   "cell_type": "code",
   "execution_count": 6,
   "id": "8c860509",
   "metadata": {},
   "outputs": [],
   "source": [
    "database=path[\"Shalini\"]"
   ]
  },
  {
   "cell_type": "code",
   "execution_count": 8,
   "id": "13373557",
   "metadata": {},
   "outputs": [
    {
     "name": "stdout",
     "output_type": "stream",
     "text": [
      "['admin', 'config', 'local']\n"
     ]
    }
   ],
   "source": [
    "print(path.list_database_names())"
   ]
  },
  {
   "cell_type": "code",
   "execution_count": 11,
   "id": "637af940",
   "metadata": {},
   "outputs": [],
   "source": [
    "data=database['employee']"
   ]
  },
  {
   "cell_type": "code",
   "execution_count": 12,
   "id": "051f8f72",
   "metadata": {},
   "outputs": [
    {
     "data": {
      "text/plain": [
       "Collection(Database(MongoClient(host=['localhost:27017'], document_class=dict, tz_aware=False, connect=True), 'Shalini'), 'employee')"
      ]
     },
     "execution_count": 12,
     "metadata": {},
     "output_type": "execute_result"
    }
   ],
   "source": [
    "data"
   ]
  },
  {
   "cell_type": "code",
   "execution_count": 10,
   "id": "9907af54",
   "metadata": {},
   "outputs": [],
   "source": [
    "dit={'id':1,'name':'shalini','job':'Analyst'}"
   ]
  },
  {
   "cell_type": "code",
   "execution_count": 13,
   "id": "4f8ded28",
   "metadata": {},
   "outputs": [],
   "source": [
    "cake=data.insert_one(dit)"
   ]
  },
  {
   "cell_type": "code",
   "execution_count": 22,
   "id": "b5442b89",
   "metadata": {},
   "outputs": [
    {
     "data": {
      "text/plain": [
       "{'_id': ObjectId('6334663e24fe86fa542d3836'),\n",
       " 'id': 1,\n",
       " 'name': 'shalini',\n",
       " 'job': 'Analyst'}"
      ]
     },
     "execution_count": 22,
     "metadata": {},
     "output_type": "execute_result"
    }
   ],
   "source": [
    "values=data.find_one()\n",
    "values"
   ]
  },
  {
   "cell_type": "code",
   "execution_count": 23,
   "id": "9cb46121",
   "metadata": {},
   "outputs": [],
   "source": [
    "val=[{'id':2,'name':'Atul','job':'Engineer'},{'id':3,'name':'Ayushi','job':'Doctor'},{'id':4,'name':'Priya','job':'Police'},\n",
    "    {'id':5,'name':'Riya','job':'Analyst'}]"
   ]
  },
  {
   "cell_type": "code",
   "execution_count": 28,
   "id": "764301c7",
   "metadata": {},
   "outputs": [
    {
     "ename": "BulkWriteError",
     "evalue": "batch op errors occurred, full error: {'writeErrors': [{'index': 0, 'code': 11000, 'errmsg': \"E11000 duplicate key error collection: Shalini.employee index: _id_ dup key: { _id: ObjectId('633467c724fe86fa542d3837') }\", 'keyPattern': {'_id': 1}, 'keyValue': {'_id': ObjectId('633467c724fe86fa542d3837')}, 'op': {'id': 2, 'name': 'Atul', 'job': 'Engineer', '_id': ObjectId('633467c724fe86fa542d3837')}}], 'writeConcernErrors': [], 'nInserted': 0, 'nUpserted': 0, 'nMatched': 0, 'nModified': 0, 'nRemoved': 0, 'upserted': []}",
     "output_type": "error",
     "traceback": [
      "\u001b[1;31m---------------------------------------------------------------------------\u001b[0m",
      "\u001b[1;31mBulkWriteError\u001b[0m                            Traceback (most recent call last)",
      "Input \u001b[1;32mIn [28]\u001b[0m, in \u001b[0;36m<cell line: 1>\u001b[1;34m()\u001b[0m\n\u001b[1;32m----> 1\u001b[0m cake1\u001b[38;5;241m=\u001b[39m\u001b[43mdata\u001b[49m\u001b[38;5;241;43m.\u001b[39;49m\u001b[43minsert_many\u001b[49m\u001b[43m(\u001b[49m\u001b[43mval\u001b[49m\u001b[43m)\u001b[49m\n",
      "File \u001b[1;32m~\\anaconda3\\lib\\site-packages\\pymongo\\_csot.py:105\u001b[0m, in \u001b[0;36mapply.<locals>.csot_wrapper\u001b[1;34m(self, *args, **kwargs)\u001b[0m\n\u001b[0;32m    103\u001b[0m         \u001b[38;5;28;01mwith\u001b[39;00m _TimeoutContext(timeout):\n\u001b[0;32m    104\u001b[0m             \u001b[38;5;28;01mreturn\u001b[39;00m func(\u001b[38;5;28mself\u001b[39m, \u001b[38;5;241m*\u001b[39margs, \u001b[38;5;241m*\u001b[39m\u001b[38;5;241m*\u001b[39mkwargs)\n\u001b[1;32m--> 105\u001b[0m \u001b[38;5;28;01mreturn\u001b[39;00m func(\u001b[38;5;28mself\u001b[39m, \u001b[38;5;241m*\u001b[39margs, \u001b[38;5;241m*\u001b[39m\u001b[38;5;241m*\u001b[39mkwargs)\n",
      "File \u001b[1;32m~\\anaconda3\\lib\\site-packages\\pymongo\\collection.py:707\u001b[0m, in \u001b[0;36mCollection.insert_many\u001b[1;34m(self, documents, ordered, bypass_document_validation, session, comment)\u001b[0m\n\u001b[0;32m    705\u001b[0m blk \u001b[38;5;241m=\u001b[39m _Bulk(\u001b[38;5;28mself\u001b[39m, ordered, bypass_document_validation, comment\u001b[38;5;241m=\u001b[39mcomment)\n\u001b[0;32m    706\u001b[0m blk\u001b[38;5;241m.\u001b[39mops \u001b[38;5;241m=\u001b[39m [doc \u001b[38;5;28;01mfor\u001b[39;00m doc \u001b[38;5;129;01min\u001b[39;00m gen()]\n\u001b[1;32m--> 707\u001b[0m \u001b[43mblk\u001b[49m\u001b[38;5;241;43m.\u001b[39;49m\u001b[43mexecute\u001b[49m\u001b[43m(\u001b[49m\u001b[43mwrite_concern\u001b[49m\u001b[43m,\u001b[49m\u001b[43m \u001b[49m\u001b[43msession\u001b[49m\u001b[38;5;241;43m=\u001b[39;49m\u001b[43msession\u001b[49m\u001b[43m)\u001b[49m\n\u001b[0;32m    708\u001b[0m \u001b[38;5;28;01mreturn\u001b[39;00m InsertManyResult(inserted_ids, write_concern\u001b[38;5;241m.\u001b[39macknowledged)\n",
      "File \u001b[1;32m~\\anaconda3\\lib\\site-packages\\pymongo\\bulk.py:513\u001b[0m, in \u001b[0;36m_Bulk.execute\u001b[1;34m(self, write_concern, session)\u001b[0m\n\u001b[0;32m    511\u001b[0m         \u001b[38;5;28mself\u001b[39m\u001b[38;5;241m.\u001b[39mexecute_no_results(sock_info, generator, write_concern)\n\u001b[0;32m    512\u001b[0m \u001b[38;5;28;01melse\u001b[39;00m:\n\u001b[1;32m--> 513\u001b[0m     \u001b[38;5;28;01mreturn\u001b[39;00m \u001b[38;5;28;43mself\u001b[39;49m\u001b[38;5;241;43m.\u001b[39;49m\u001b[43mexecute_command\u001b[49m\u001b[43m(\u001b[49m\u001b[43mgenerator\u001b[49m\u001b[43m,\u001b[49m\u001b[43m \u001b[49m\u001b[43mwrite_concern\u001b[49m\u001b[43m,\u001b[49m\u001b[43m \u001b[49m\u001b[43msession\u001b[49m\u001b[43m)\u001b[49m\n",
      "File \u001b[1;32m~\\anaconda3\\lib\\site-packages\\pymongo\\bulk.py:394\u001b[0m, in \u001b[0;36m_Bulk.execute_command\u001b[1;34m(self, generator, write_concern, session)\u001b[0m\n\u001b[0;32m    391\u001b[0m     client\u001b[38;5;241m.\u001b[39m_retry_with_session(\u001b[38;5;28mself\u001b[39m\u001b[38;5;241m.\u001b[39mis_retryable, retryable_bulk, s, \u001b[38;5;28mself\u001b[39m)\n\u001b[0;32m    393\u001b[0m \u001b[38;5;28;01mif\u001b[39;00m full_result[\u001b[38;5;124m\"\u001b[39m\u001b[38;5;124mwriteErrors\u001b[39m\u001b[38;5;124m\"\u001b[39m] \u001b[38;5;129;01mor\u001b[39;00m full_result[\u001b[38;5;124m\"\u001b[39m\u001b[38;5;124mwriteConcernErrors\u001b[39m\u001b[38;5;124m\"\u001b[39m]:\n\u001b[1;32m--> 394\u001b[0m     \u001b[43m_raise_bulk_write_error\u001b[49m\u001b[43m(\u001b[49m\u001b[43mfull_result\u001b[49m\u001b[43m)\u001b[49m\n\u001b[0;32m    395\u001b[0m \u001b[38;5;28;01mreturn\u001b[39;00m full_result\n",
      "File \u001b[1;32m~\\anaconda3\\lib\\site-packages\\pymongo\\bulk.py:136\u001b[0m, in \u001b[0;36m_raise_bulk_write_error\u001b[1;34m(full_result)\u001b[0m\n\u001b[0;32m    134\u001b[0m \u001b[38;5;28;01mif\u001b[39;00m full_result[\u001b[38;5;124m\"\u001b[39m\u001b[38;5;124mwriteErrors\u001b[39m\u001b[38;5;124m\"\u001b[39m]:\n\u001b[0;32m    135\u001b[0m     full_result[\u001b[38;5;124m\"\u001b[39m\u001b[38;5;124mwriteErrors\u001b[39m\u001b[38;5;124m\"\u001b[39m]\u001b[38;5;241m.\u001b[39msort(key\u001b[38;5;241m=\u001b[39m\u001b[38;5;28;01mlambda\u001b[39;00m error: error[\u001b[38;5;124m\"\u001b[39m\u001b[38;5;124mindex\u001b[39m\u001b[38;5;124m\"\u001b[39m])\n\u001b[1;32m--> 136\u001b[0m \u001b[38;5;28;01mraise\u001b[39;00m BulkWriteError(full_result)\n",
      "\u001b[1;31mBulkWriteError\u001b[0m: batch op errors occurred, full error: {'writeErrors': [{'index': 0, 'code': 11000, 'errmsg': \"E11000 duplicate key error collection: Shalini.employee index: _id_ dup key: { _id: ObjectId('633467c724fe86fa542d3837') }\", 'keyPattern': {'_id': 1}, 'keyValue': {'_id': ObjectId('633467c724fe86fa542d3837')}, 'op': {'id': 2, 'name': 'Atul', 'job': 'Engineer', '_id': ObjectId('633467c724fe86fa542d3837')}}], 'writeConcernErrors': [], 'nInserted': 0, 'nUpserted': 0, 'nMatched': 0, 'nModified': 0, 'nRemoved': 0, 'upserted': []}"
     ]
    }
   ],
   "source": [
    "cake1=data.insert_many(val)"
   ]
  },
  {
   "cell_type": "code",
   "execution_count": 43,
   "id": "1adaae4c",
   "metadata": {},
   "outputs": [
    {
     "name": "stdout",
     "output_type": "stream",
     "text": [
      "{'_id': ObjectId('6334663e24fe86fa542d3836'), 'id': 1, 'name': 'shalini', 'job': 'Analyst'}\n",
      "{'_id': ObjectId('633467c724fe86fa542d3837'), 'id': 2, 'name': 'Atul', 'job': 'Engineer'}\n",
      "{'_id': ObjectId('633467c724fe86fa542d3838'), 'id': 3, 'name': 'Ayushi', 'job': 'Doctor'}\n",
      "{'_id': ObjectId('633467c724fe86fa542d3839'), 'id': 4, 'name': 'Priya', 'job': 'Police'}\n",
      "{'_id': ObjectId('633467c724fe86fa542d383a'), 'id': 5, 'name': 'Riya', 'job': 'Analyst'}\n"
     ]
    }
   ],
   "source": [
    "for i in data.find():\n",
    "    print(i)"
   ]
  },
  {
   "cell_type": "code",
   "execution_count": 29,
   "id": "c4c45ba6",
   "metadata": {},
   "outputs": [
    {
     "data": {
      "text/plain": [
       "<pymongo.results.InsertManyResult at 0x210579b2880>"
      ]
     },
     "execution_count": 29,
     "metadata": {},
     "output_type": "execute_result"
    }
   ],
   "source": [
    "cake1"
   ]
  },
  {
   "cell_type": "code",
   "execution_count": 34,
   "id": "d60aae17",
   "metadata": {},
   "outputs": [
    {
     "data": {
      "text/plain": [
       "<pymongo.cursor.Cursor at 0x21058000910>"
      ]
     },
     "execution_count": 34,
     "metadata": {},
     "output_type": "execute_result"
    }
   ],
   "source": [
    "n"
   ]
  },
  {
   "cell_type": "code",
   "execution_count": 35,
   "id": "e3c90b1a",
   "metadata": {},
   "outputs": [
    {
     "name": "stdout",
     "output_type": "stream",
     "text": [
      "<pymongo.results.InsertManyResult object at 0x000002105835DBB0>\n"
     ]
    }
   ],
   "source": [
    "database=path[\"Shalini\"]\n",
    "qq=database['git']\n",
    "val=[{'id':2,'name':'Atul','job':'Engineer'},{'id':3,'name':'Ayushi','job':'Doctor'},{'id':4,'name':'Priya','job':'Police'},\n",
    "    {'id':5,'name':'Riya','job':'Analyst'}]\n",
    "ll=qq.insert_many(val)\n",
    "print(ll)"
   ]
  },
  {
   "cell_type": "code",
   "execution_count": 40,
   "id": "8f827a58",
   "metadata": {},
   "outputs": [
    {
     "name": "stdout",
     "output_type": "stream",
     "text": [
      "{'_id': ObjectId('6334695c24fe86fa542d383b'), 'id': 2, 'name': 'Atul', 'job': 'Engineer'}\n",
      "{'_id': ObjectId('6334695c24fe86fa542d383c'), 'id': 3, 'name': 'Ayushi', 'job': 'Doctor'}\n",
      "{'_id': ObjectId('6334695c24fe86fa542d383d'), 'id': 4, 'name': 'Priya', 'job': 'Police'}\n",
      "{'_id': ObjectId('6334695c24fe86fa542d383e'), 'id': 5, 'name': 'Riya', 'job': 'Analyst'}\n"
     ]
    }
   ],
   "source": [
    "for i in qq.find():\n",
    "    print(i)"
   ]
  },
  {
   "cell_type": "code",
   "execution_count": 48,
   "id": "2bb45975",
   "metadata": {},
   "outputs": [
    {
     "name": "stdout",
     "output_type": "stream",
     "text": [
      "{'id': 2, 'name': 'Atul', 'job': 'Engineer'}\n",
      "{'id': 3, 'name': 'Ayushi', 'job': 'Doctor'}\n",
      "{'id': 4, 'name': 'Priya', 'job': 'Police'}\n",
      "{'id': 5, 'name': 'Riya', 'job': 'Analyst'}\n"
     ]
    }
   ],
   "source": [
    "for x in qq.find({},{'id':1,'_id':0,'name':1,'job':1}):\n",
    "    print(x)\n",
    "    "
   ]
  },
  {
   "cell_type": "code",
   "execution_count": 50,
   "id": "a8306689",
   "metadata": {},
   "outputs": [
    {
     "name": "stdout",
     "output_type": "stream",
     "text": [
      "{'_id': ObjectId('6334695c24fe86fa542d383b'), 'id': 2, 'name': 'Atul'}\n",
      "{'_id': ObjectId('6334695c24fe86fa542d383c'), 'id': 3, 'name': 'Ayushi'}\n",
      "{'_id': ObjectId('6334695c24fe86fa542d383d'), 'id': 4, 'name': 'Priya'}\n",
      "{'_id': ObjectId('6334695c24fe86fa542d383e'), 'id': 5, 'name': 'Riya'}\n"
     ]
    }
   ],
   "source": [
    "for x in qq.find({},{'job':0}):\n",
    "    print(x)"
   ]
  },
  {
   "cell_type": "code",
   "execution_count": 51,
   "id": "2273da5b",
   "metadata": {},
   "outputs": [],
   "source": [
    "#csv data mongodb insert through python"
   ]
  },
  {
   "cell_type": "code",
   "execution_count": null,
   "id": "86ce5152",
   "metadata": {},
   "outputs": [],
   "source": []
  }
 ],
 "metadata": {
  "kernelspec": {
   "display_name": "Python 3 (ipykernel)",
   "language": "python",
   "name": "python3"
  },
  "language_info": {
   "codemirror_mode": {
    "name": "ipython",
    "version": 3
   },
   "file_extension": ".py",
   "mimetype": "text/x-python",
   "name": "python",
   "nbconvert_exporter": "python",
   "pygments_lexer": "ipython3",
   "version": "3.9.12"
  }
 },
 "nbformat": 4,
 "nbformat_minor": 5
}
