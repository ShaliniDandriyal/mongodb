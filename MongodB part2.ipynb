{
 "cells": [
  {
   "cell_type": "code",
   "execution_count": 1,
   "id": "6409cb11",
   "metadata": {},
   "outputs": [],
   "source": [
    "import pymongo"
   ]
  },
  {
   "cell_type": "code",
   "execution_count": 2,
   "id": "cfe3a74f",
   "metadata": {},
   "outputs": [],
   "source": [
    "path=pymongo.MongoClient(\"mongodb://localhost:27017/\")"
   ]
  },
  {
   "cell_type": "code",
   "execution_count": 3,
   "id": "5d9d50ba",
   "metadata": {},
   "outputs": [],
   "source": [
    "database=path[\"Shalini\"]"
   ]
  },
  {
   "cell_type": "code",
   "execution_count": 4,
   "id": "dc1612f2",
   "metadata": {},
   "outputs": [],
   "source": [
    "data=database['employees']"
   ]
  },
  {
   "cell_type": "code",
   "execution_count": 7,
   "id": "a4bade44",
   "metadata": {},
   "outputs": [],
   "source": [
    "val=[{'id':2,'name':'Atul','job':'Engineer','salary':80000},{'id':3,'name':'Ayushi','job':'Doctor','salary':90000},{'id':4,'name':'Priya','job':'Police','salary':50000},\n",
    "    {'id':5,'name':'Riya','job':'Analyst','salary':20000},{'id':6,'name':'Kirti','job':'Doctor','salary':99000},{'id':7,'name':'Radha','job':'Analyst','salary':70000},\n",
    "    {'id':8,'name':'Preeti','job':'Doctor','salary':70000},{'id':9,'name':'Ram','job':'Police','salary':90000},{'id':10,'name':'Kewal','job':'Analyst','salary':50000}]"
   ]
  },
  {
   "cell_type": "code",
   "execution_count": 44,
   "id": "f3527305",
   "metadata": {},
   "outputs": [],
   "source": [
    "vale=({'id':6,'name':'Kirti','job':'Doctor','salary':99000},{'id':11,'name':'Kirti','job':'Doctor','salary':77000},\n",
    "     {'id':12,'name':'Krishana','job':'Teacher','salary':30000},{'id':13,'name':'Riddhi','job':'Doctor','salary':40000},\n",
    "     {'id':14,'name':'Kirti','job':'Analyst','salary':70000})"
   ]
  },
  {
   "cell_type": "code",
   "execution_count": null,
   "id": "01eb0a9b",
   "metadata": {},
   "outputs": [],
   "source": []
  },
  {
   "cell_type": "code",
   "execution_count": 45,
   "id": "a84227aa",
   "metadata": {},
   "outputs": [],
   "source": [
    "cake1=data.insert_many(vale)"
   ]
  },
  {
   "cell_type": "code",
   "execution_count": 46,
   "id": "0031e12f",
   "metadata": {},
   "outputs": [
    {
     "name": "stdout",
     "output_type": "stream",
     "text": [
      "{'_id': ObjectId('6337e161dd7e96e4a055c653'), 'id': 2, 'name': 'Atul', 'job': 'Engineer', 'salary': 80000}\n",
      "{'_id': ObjectId('6337e161dd7e96e4a055c654'), 'id': 3, 'name': 'Ayushi', 'job': 'Doctor', 'salary': 90000}\n",
      "{'_id': ObjectId('6337e161dd7e96e4a055c655'), 'id': 4, 'name': 'Priya', 'job': 'Police', 'salary': 50000}\n",
      "{'_id': ObjectId('6337e161dd7e96e4a055c658'), 'id': 7, 'name': 'Radha', 'job': 'Analyst', 'salary': 70000}\n",
      "{'_id': ObjectId('6337e161dd7e96e4a055c659'), 'id': 8, 'name': 'Preeti', 'job': 'Doctor', 'salary': 70000}\n",
      "{'_id': ObjectId('6337e161dd7e96e4a055c65a'), 'id': 9, 'name': 'Ram', 'job': 'Police', 'salary': 90000}\n",
      "{'_id': ObjectId('6337e161dd7e96e4a055c65b'), 'id': 10, 'name': 'Kewal', 'job': 'Analyst', 'salary': 50000}\n",
      "{'_id': ObjectId('6337ea51dd7e96e4a055c65c'), 'id': 6, 'name': 'Kirti', 'job': 'Doctor', 'salary': 99000}\n",
      "{'_id': ObjectId('6337ea51dd7e96e4a055c65d'), 'id': 11, 'name': 'Kirti', 'job': 'Doctor', 'salary': 77000}\n",
      "{'_id': ObjectId('6337ea51dd7e96e4a055c65e'), 'id': 12, 'name': 'Krishana', 'job': 'Teacher', 'salary': 30000}\n",
      "{'_id': ObjectId('6337ea51dd7e96e4a055c65f'), 'id': 13, 'name': 'Riddhi', 'job': 'Doctor', 'salary': 40000}\n",
      "{'_id': ObjectId('6337ea51dd7e96e4a055c660'), 'id': 14, 'name': 'Kirti', 'job': 'Analyst', 'salary': 70000}\n"
     ]
    }
   ],
   "source": [
    "for i in data.find():\n",
    "    print(i)"
   ]
  },
  {
   "cell_type": "code",
   "execution_count": 15,
   "id": "f9bad3f0",
   "metadata": {},
   "outputs": [
    {
     "name": "stdout",
     "output_type": "stream",
     "text": [
      "{'_id': ObjectId('6337e161dd7e96e4a055c653'), 'job': 'Police'}\n",
      "{'_id': ObjectId('6337e161dd7e96e4a055c654'), 'job': 'Police'}\n",
      "{'_id': ObjectId('6337e161dd7e96e4a055c655'), 'job': 'Police'}\n",
      "{'_id': ObjectId('6337e161dd7e96e4a055c656'), 'job': 'Police'}\n",
      "{'_id': ObjectId('6337e161dd7e96e4a055c657'), 'job': 'Police'}\n",
      "{'_id': ObjectId('6337e161dd7e96e4a055c658'), 'job': 'Police'}\n",
      "{'_id': ObjectId('6337e161dd7e96e4a055c659'), 'job': 'Police'}\n",
      "{'_id': ObjectId('6337e161dd7e96e4a055c65a'), 'job': 'Police'}\n",
      "{'_id': ObjectId('6337e161dd7e96e4a055c65b'), 'job': 'Police'}\n"
     ]
    }
   ],
   "source": [
    "x=data.find({},{'job':'Police'})\n",
    "for i in x:\n",
    "    print(i)"
   ]
  },
  {
   "cell_type": "code",
   "execution_count": 16,
   "id": "efc0ebdb",
   "metadata": {},
   "outputs": [
    {
     "name": "stdout",
     "output_type": "stream",
     "text": [
      "['MachineLearning', 'New', 'Roots', 'Shalini', 'admin', 'config', 'know', 'local']\n"
     ]
    }
   ],
   "source": [
    "print(path.list_database_names())"
   ]
  },
  {
   "cell_type": "code",
   "execution_count": 17,
   "id": "ddc6b644",
   "metadata": {},
   "outputs": [
    {
     "name": "stdout",
     "output_type": "stream",
     "text": [
      "{'_id': ObjectId('6337e161dd7e96e4a055c655'), 'id': 4, 'name': 'Priya', 'job': 'Police', 'salary': 50000}\n",
      "{'_id': ObjectId('6337e161dd7e96e4a055c65a'), 'id': 9, 'name': 'Ram', 'job': 'Police', 'salary': 90000}\n"
     ]
    }
   ],
   "source": [
    "y={\"job\":\"Police\"}\n",
    "q=data.find(y)\n",
    "for i in q:\n",
    "    print(i)"
   ]
  },
  {
   "cell_type": "code",
   "execution_count": 28,
   "id": "d411bdce",
   "metadata": {},
   "outputs": [],
   "source": [
    "import json"
   ]
  },
  {
   "cell_type": "code",
   "execution_count": 29,
   "id": "14e89af4",
   "metadata": {},
   "outputs": [
    {
     "name": "stdout",
     "output_type": "stream",
     "text": [
      "{'_id': ObjectId('6337e161dd7e96e4a055c655'), 'id': 4, 'name': 'Priya', 'job': 'Police', 'salary': 50000}\n",
      "{'_id': ObjectId('6337e161dd7e96e4a055c65a'), 'id': 9, 'name': 'Ram', 'job': 'Police', 'salary': 90000}\n"
     ]
    }
   ],
   "source": [
    "y=({\"$and\":[{\"job\":\"Police\"},{\"salary\":{\"$gte\":20000}}]})\n",
    "q=data.find(y)\n",
    "for i in q:\n",
    "    print(i)\n"
   ]
  },
  {
   "cell_type": "code",
   "execution_count": 53,
   "id": "146f0dfd",
   "metadata": {},
   "outputs": [
    {
     "name": "stdout",
     "output_type": "stream",
     "text": [
      "{'_id': ObjectId('6337e161dd7e96e4a055c653'), 'id': 2, 'name': 'Atul', 'job': 'Engineer', 'salary': 80000}\n",
      "{'_id': ObjectId('6337e161dd7e96e4a055c654'), 'id': 3, 'name': 'Ayushi', 'job': 'Doctor', 'salary': 90000}\n",
      "{'_id': ObjectId('6337e161dd7e96e4a055c659'), 'id': 8, 'name': 'Preeti', 'job': 'Doctor', 'salary': 70000}\n",
      "{'_id': ObjectId('6337e161dd7e96e4a055c655'), 'id': 4, 'name': 'Priya', 'job': 'Police', 'salary': 5000000}\n",
      "{'_id': ObjectId('6337e161dd7e96e4a055c658'), 'id': 7, 'name': 'Radha', 'job': 'Analyst', 'salary': 70000}\n",
      "{'_id': ObjectId('6337e161dd7e96e4a055c65a'), 'id': 9, 'name': 'Ram', 'job': 'Police', 'salary': 90000}\n",
      "{'_id': ObjectId('6337ea51dd7e96e4a055c65f'), 'id': 13, 'name': 'Riddhi', 'job': 'Doctor', 'salary': 40000}\n"
     ]
    }
   ],
   "source": [
    "#sort ascending\n",
    "z=data.find().sort(\"name\")\n",
    "for i in z:\n",
    "    print(i)"
   ]
  },
  {
   "cell_type": "code",
   "execution_count": 42,
   "id": "7e7eead4",
   "metadata": {},
   "outputs": [
    {
     "name": "stdout",
     "output_type": "stream",
     "text": [
      "{'_id': ObjectId('6337e161dd7e96e4a055c65a'), 'id': 9, 'name': 'Ram', 'job': 'Police', 'salary': 90000}\n",
      "{'_id': ObjectId('6337e161dd7e96e4a055c658'), 'id': 7, 'name': 'Radha', 'job': 'Analyst', 'salary': 70000}\n",
      "{'_id': ObjectId('6337e161dd7e96e4a055c655'), 'id': 4, 'name': 'Priya', 'job': 'Police', 'salary': 50000}\n",
      "{'_id': ObjectId('6337e161dd7e96e4a055c659'), 'id': 8, 'name': 'Preeti', 'job': 'Doctor', 'salary': 70000}\n",
      "{'_id': ObjectId('6337e161dd7e96e4a055c65b'), 'id': 10, 'name': 'Kewal', 'job': 'Analyst', 'salary': 50000}\n",
      "{'_id': ObjectId('6337e161dd7e96e4a055c654'), 'id': 3, 'name': 'Ayushi', 'job': 'Doctor', 'salary': 90000}\n",
      "{'_id': ObjectId('6337e161dd7e96e4a055c653'), 'id': 2, 'name': 'Atul', 'job': 'Engineer', 'salary': 80000}\n"
     ]
    }
   ],
   "source": [
    "#sort descending\n",
    "n=data.find().sort(\"name\",-1)\n",
    "for i in n:\n",
    "    print(i)"
   ]
  },
  {
   "cell_type": "code",
   "execution_count": 39,
   "id": "e73358cf",
   "metadata": {},
   "outputs": [],
   "source": [
    "#delete\n",
    "l={'name':'Riya'}\n",
    "p=data.delete_one(l)"
   ]
  },
  {
   "cell_type": "code",
   "execution_count": 41,
   "id": "e2356935",
   "metadata": {},
   "outputs": [],
   "source": [
    "#delete\n",
    "l={'name':'Kewal','name': 'Kirti'}\n",
    "p=data.delete_many(l)"
   ]
  },
  {
   "cell_type": "code",
   "execution_count": 48,
   "id": "75b14325",
   "metadata": {},
   "outputs": [
    {
     "name": "stdout",
     "output_type": "stream",
     "text": [
      "5 the deleted rows\n"
     ]
    }
   ],
   "source": [
    "p={'name':{\"$regex\":\"^K\"}}\n",
    "x=data.delete_many(p)\n",
    "print(x.deleted_count,\"the deleted rows\")"
   ]
  },
  {
   "cell_type": "markdown",
   "id": "85e9954b",
   "metadata": {},
   "source": [
    "# how to delete the collection\n",
    "data.drop()"
   ]
  },
  {
   "cell_type": "code",
   "execution_count": 52,
   "id": "3cda9337",
   "metadata": {},
   "outputs": [
    {
     "data": {
      "text/plain": [
       "<pymongo.results.UpdateResult at 0x16f3a9416a0>"
      ]
     },
     "execution_count": 52,
     "metadata": {},
     "output_type": "execute_result"
    }
   ],
   "source": [
    "ll={\"salary\":50000}\n",
    "new_val={\"$set\":{\"salary\":5000000}}\n",
    "data.update_many(ll,new_val)"
   ]
  },
  {
   "cell_type": "code",
   "execution_count": null,
   "id": "15935ded",
   "metadata": {},
   "outputs": [],
   "source": [
    "#core python. numpy,matplot,data preprocessing,data cleaning"
   ]
  }
 ],
 "metadata": {
  "kernelspec": {
   "display_name": "Python 3 (ipykernel)",
   "language": "python",
   "name": "python3"
  },
  "language_info": {
   "codemirror_mode": {
    "name": "ipython",
    "version": 3
   },
   "file_extension": ".py",
   "mimetype": "text/x-python",
   "name": "python",
   "nbconvert_exporter": "python",
   "pygments_lexer": "ipython3",
   "version": "3.9.12"
  }
 },
 "nbformat": 4,
 "nbformat_minor": 5
}
